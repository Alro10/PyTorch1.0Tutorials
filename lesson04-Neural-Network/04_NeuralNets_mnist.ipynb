{
  "nbformat": 4,
  "nbformat_minor": 0,
  "metadata": {
    "colab": {
      "name": "04_NeuralNets_mnist.ipynb",
      "version": "0.3.2",
      "provenance": [],
      "include_colab_link": true
    },
    "kernelspec": {
      "name": "python3",
      "display_name": "Python 3"
    },
    "accelerator": "GPU"
  },
  "cells": [
    {
      "cell_type": "markdown",
      "metadata": {
        "id": "view-in-github",
        "colab_type": "text"
      },
      "source": [
        "<a href=\"https://colab.research.google.com/github/Alro10/PyTorch1.xTutorials/blob/master/04-Neural-Network/04_NeuralNets_mnist.ipynb\" target=\"_parent\"><img src=\"https://colab.research.google.com/assets/colab-badge.svg\" alt=\"Open In Colab\"/></a>"
      ]
    },
    {
      "cell_type": "markdown",
      "metadata": {
        "id": "oXdn6KjmUN2n",
        "colab_type": "text"
      },
      "source": [
        "# Neural Networks"
      ]
    },
    {
      "cell_type": "markdown",
      "metadata": {
        "id": "8W6CFNvTX6DY",
        "colab_type": "text"
      },
      "source": [
        "This is a tutorial for using shallow neural networks (NNets). The magic ReLU activation is a part of NNets arquitecture:\n",
        "\n",
        "\\begin{equation}\n",
        "f(x)=x^{+}=\\max (0, x)\n",
        "\\end{equation}"
      ]
    },
    {
      "cell_type": "markdown",
      "metadata": {
        "id": "DNHWEqZxUVwC",
        "colab_type": "text"
      },
      "source": [
        "## Get dataset "
      ]
    },
    {
      "cell_type": "code",
      "metadata": {
        "id": "2MaN8flkqPHO",
        "colab_type": "code",
        "colab": {}
      },
      "source": [
        "import torch\n",
        "import torch.nn as nn\n",
        "import torchvision\n",
        "import torchvision.transforms as transforms\n",
        "\n",
        "\n",
        "# Device configuration (use GPU or CPU)\n",
        "device = torch.device('cuda' if torch.cuda.is_available() else 'cpu')\n",
        "\n",
        "# Hyper-parameters \n",
        "input_size = 784\n",
        "hidden_size = 500\n",
        "num_classes = 10\n",
        "num_epochs = 5\n",
        "batch_size = 100\n",
        "learning_rate = 0.001\n",
        "\n",
        "# MNIST dataset \n",
        "train_dataset = torchvision.datasets.MNIST(root='../../data', \n",
        "                                           train=True, \n",
        "                                           transform=transforms.ToTensor(),  \n",
        "                                           download=True)\n",
        "\n",
        "test_dataset = torchvision.datasets.MNIST(root='../../data', \n",
        "                                          train=False, \n",
        "                                          transform=transforms.ToTensor())\n",
        "\n",
        "# Data loader\n",
        "train_loader = torch.utils.data.DataLoader(dataset=train_dataset, \n",
        "                                           batch_size=batch_size, \n",
        "                                           shuffle=True)\n",
        "\n",
        "test_loader = torch.utils.data.DataLoader(dataset=test_dataset, \n",
        "                                          batch_size=batch_size, \n",
        "                                          shuffle=False)"
      ],
      "execution_count": 0,
      "outputs": []
    },
    {
      "cell_type": "markdown",
      "metadata": {
        "id": "g5IOyG-AUhQS",
        "colab_type": "text"
      },
      "source": [
        "## Feedforward Network"
      ]
    },
    {
      "cell_type": "code",
      "metadata": {
        "id": "aDETL55SUrvh",
        "colab_type": "code",
        "colab": {}
      },
      "source": [
        "# Fully connected neural network with one hidden layer\n",
        "class NeuralNet(nn.Module):\n",
        "    def __init__(self, input_size, hidden_size, num_classes):\n",
        "        super(NeuralNet, self).__init__()\n",
        "        self.fc1 = nn.Linear(input_size, hidden_size) \n",
        "        self.relu = nn.ReLU()\n",
        "        self.fc2 = nn.Linear(hidden_size, num_classes)  \n",
        "    \n",
        "    def forward(self, x):\n",
        "        # Now it only takes a call to the layers to make predictions\n",
        "        out = self.fc1(x)\n",
        "        out = self.relu(out)\n",
        "        out = self.fc2(out)\n",
        "        return out"
      ],
      "execution_count": 0,
      "outputs": []
    },
    {
      "cell_type": "markdown",
      "metadata": {
        "id": "8crPS3poVDRR",
        "colab_type": "text"
      },
      "source": [
        "## Training step"
      ]
    },
    {
      "cell_type": "code",
      "metadata": {
        "id": "VvFpofy8VC3S",
        "colab_type": "code",
        "colab": {
          "base_uri": "https://localhost:8080/",
          "height": 516
        },
        "outputId": "dfa0f7a9-ae1a-4551-8988-743273c7b6d0"
      },
      "source": [
        "model = NeuralNet(input_size, hidden_size, num_classes).to(device)\n",
        "\n",
        "# Loss and optimizer\n",
        "criterion = nn.CrossEntropyLoss()\n",
        "optimizer = torch.optim.Adam(model.parameters(), lr=learning_rate)  \n",
        "\n",
        "# Train the model\n",
        "total_step = len(train_loader)\n",
        "for epoch in range(num_epochs):\n",
        "    for i, (images, labels) in enumerate(train_loader):  \n",
        "        # Move tensors to the configured device\n",
        "        images = images.reshape(-1, 28*28).to(device)\n",
        "        labels = labels.to(device)\n",
        "        \n",
        "        # Forward pass\n",
        "        outputs = model(images)\n",
        "        loss = criterion(outputs, labels)\n",
        "        \n",
        "        # Backward and optimize\n",
        "        optimizer.zero_grad()\n",
        "        loss.backward()\n",
        "        optimizer.step()\n",
        "        \n",
        "        if (i+1) % 100 == 0:\n",
        "            print ('Epoch [{}/{}], Step [{}/{}], Loss: {:.4f}' \n",
        "                   .format(epoch+1, num_epochs, i+1, total_step, loss.item()))\n"
      ],
      "execution_count": 3,
      "outputs": [
        {
          "output_type": "stream",
          "text": [
            "Epoch [1/5], Step [100/600], Loss: 0.2915\n",
            "Epoch [1/5], Step [200/600], Loss: 0.3362\n",
            "Epoch [1/5], Step [300/600], Loss: 0.1498\n",
            "Epoch [1/5], Step [400/600], Loss: 0.1193\n",
            "Epoch [1/5], Step [500/600], Loss: 0.0917\n",
            "Epoch [1/5], Step [600/600], Loss: 0.1291\n",
            "Epoch [2/5], Step [100/600], Loss: 0.0539\n",
            "Epoch [2/5], Step [200/600], Loss: 0.1187\n",
            "Epoch [2/5], Step [300/600], Loss: 0.2009\n",
            "Epoch [2/5], Step [400/600], Loss: 0.0779\n",
            "Epoch [2/5], Step [500/600], Loss: 0.0737\n",
            "Epoch [2/5], Step [600/600], Loss: 0.0289\n",
            "Epoch [3/5], Step [100/600], Loss: 0.0519\n",
            "Epoch [3/5], Step [200/600], Loss: 0.1052\n",
            "Epoch [3/5], Step [300/600], Loss: 0.0256\n",
            "Epoch [3/5], Step [400/600], Loss: 0.0246\n",
            "Epoch [3/5], Step [500/600], Loss: 0.0307\n",
            "Epoch [3/5], Step [600/600], Loss: 0.0552\n",
            "Epoch [4/5], Step [100/600], Loss: 0.0579\n",
            "Epoch [4/5], Step [200/600], Loss: 0.0238\n",
            "Epoch [4/5], Step [300/600], Loss: 0.0778\n",
            "Epoch [4/5], Step [400/600], Loss: 0.0621\n",
            "Epoch [4/5], Step [500/600], Loss: 0.0135\n",
            "Epoch [4/5], Step [600/600], Loss: 0.0564\n",
            "Epoch [5/5], Step [100/600], Loss: 0.0463\n",
            "Epoch [5/5], Step [200/600], Loss: 0.0198\n",
            "Epoch [5/5], Step [300/600], Loss: 0.0471\n",
            "Epoch [5/5], Step [400/600], Loss: 0.0246\n",
            "Epoch [5/5], Step [500/600], Loss: 0.0140\n",
            "Epoch [5/5], Step [600/600], Loss: 0.0820\n"
          ],
          "name": "stdout"
        }
      ]
    },
    {
      "cell_type": "markdown",
      "metadata": {
        "id": "0EOfxK13VXZX",
        "colab_type": "text"
      },
      "source": [
        "## Accuracy "
      ]
    },
    {
      "cell_type": "code",
      "metadata": {
        "id": "PVmup4K8Vc3c",
        "colab_type": "code",
        "colab": {
          "base_uri": "https://localhost:8080/",
          "height": 33
        },
        "outputId": "890f445d-f8e1-4dc3-e82b-550fe53619cf"
      },
      "source": [
        "# Test the model\n",
        "# In test phase, we don't need to compute gradients (for memory efficiency)\n",
        "with torch.no_grad():\n",
        "    correct = 0\n",
        "    total = 0\n",
        "    for images, labels in test_loader:\n",
        "        images = images.reshape(-1, 28*28).to(device)\n",
        "        labels = labels.to(device)\n",
        "        outputs = model(images)\n",
        "        _, predicted = torch.max(outputs.data, 1)\n",
        "        total += labels.size(0)\n",
        "        correct += (predicted == labels).sum().item()\n",
        "\n",
        "    print('Accuracy of the network on the 10000 test images: {} %'.format(100 * correct / total))"
      ],
      "execution_count": 4,
      "outputs": [
        {
          "output_type": "stream",
          "text": [
            "Accuracy of the network on the 10000 test images: 97.73 %\n"
          ],
          "name": "stdout"
        }
      ]
    },
    {
      "cell_type": "markdown",
      "metadata": {
        "id": "L1aXKY_SVgQ1",
        "colab_type": "text"
      },
      "source": [
        "## Save model"
      ]
    },
    {
      "cell_type": "code",
      "metadata": {
        "id": "1gTusF_zVhsU",
        "colab_type": "code",
        "colab": {}
      },
      "source": [
        "# Save the model checkpoint\n",
        "torch.save(model.state_dict(), 'model_net.ckpt')"
      ],
      "execution_count": 0,
      "outputs": []
    },
    {
      "cell_type": "code",
      "metadata": {
        "id": "HvARF24eVjXP",
        "colab_type": "code",
        "colab": {
          "base_uri": "https://localhost:8080/",
          "height": 33
        },
        "outputId": "91df4ae9-e30e-4ab4-ab05-036a00aa5e48"
      },
      "source": [
        "!ls"
      ],
      "execution_count": 6,
      "outputs": [
        {
          "output_type": "stream",
          "text": [
            "model_net.ckpt\tsample_data\n"
          ],
          "name": "stdout"
        }
      ]
    }
  ]
}