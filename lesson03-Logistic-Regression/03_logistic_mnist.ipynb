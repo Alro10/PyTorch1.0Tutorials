{
  "nbformat": 4,
  "nbformat_minor": 0,
  "metadata": {
    "colab": {
      "name": "03_logistic_mnist.ipynb",
      "version": "0.3.2",
      "provenance": [],
      "include_colab_link": true
    },
    "kernelspec": {
      "name": "python3",
      "display_name": "Python 3"
    },
    "accelerator": "GPU"
  },
  "cells": [
    {
      "cell_type": "markdown",
      "metadata": {
        "id": "view-in-github",
        "colab_type": "text"
      },
      "source": [
        "<a href=\"https://colab.research.google.com/github/Alro10/PyTorch1.xTutorials/blob/master/lesson03-Logistic-Regression/03_logistic_mnist.ipynb\" target=\"_parent\"><img src=\"https://colab.research.google.com/assets/colab-badge.svg\" alt=\"Open In Colab\"/></a>"
      ]
    },
    {
      "cell_type": "markdown",
      "metadata": {
        "id": "2QYa1oHsrg6r",
        "colab_type": "text"
      },
      "source": [
        "#Linear Regression\n",
        "\n",
        "In this tutorial, we will take a look and implement the classic linear regression algorithm \n",
        "\n",
        "$$y = a + bx + \\varepsilon$$\n",
        "\n",
        "Linear Regression involves creating a best fit linear line such the distance between the y' points on line and real values is minimum (the summation of the distance is known as our loss)\n",
        "\n",
        "- The code is based on:\n",
        "  - https://github.com/yunjey/pytorch-tutorial/tree/master/tutorials/01-basics/logistic_regression\n",
        "  - https://www.kaggle.com/negation/pytorch-logistic-regression-tutorial"
      ]
    },
    {
      "cell_type": "markdown",
      "metadata": {
        "id": "gylKgzt7rjGw",
        "colab_type": "text"
      },
      "source": [
        "## Gradient Descent\n",
        "\n",
        "### Step 1: Compute the loss\n",
        "\n",
        "$$MSE = \\frac{1}{N} \\sum_{i=1}^N (y_i - \\hat{y}_i)^2 $$\n",
        "\n",
        "$$MSE = \\frac{1}{N} \\sum_{i=1}^N (y_i - a - bx_i )^2 $$\n",
        "\n",
        "<h4><center>Mean Square Error (MSE)</center></h4>\n",
        "\n",
        "\n",
        "### Step 2: Compute the gradients\n",
        "\n",
        "\\begin{equation}\n",
        "\\frac{\\partial MSE}{\\partial a} = \\frac{\\partial MSE}{\\partial \\hat{y}_i} \\frac{\\partial  \\hat{y}_i}{\\partial a}  = \\frac{1}{N} \\sum_{i=1}^N 2(y_i  - a - bx_i) (-1) = -2\\frac{1}{N} \\sum_{i=1}^N (y_i - \\hat{y}_i)\n",
        "\\end{equation}\n",
        "\n",
        "\n",
        "\\begin{equation}\n",
        "\\frac{\\partial MSE}{\\partial a} = \\frac{\\partial MSE}{\\partial \\hat{y}_i} \\frac{\\partial  \\hat{y}_i}{\\partial a}  = \\frac{1}{N} \\sum_{i=1}^N 2(y_i  - a - bx_i) (-1) (x_i)= -2\\frac{1}{N} \\sum_{i=1}^N x_i(y_i - \\hat{y}_i)\n",
        "\\end{equation}\n",
        "\n",
        "<h4><center>Computing gradients w.r.t. parameters</center></h4>\n",
        "\n",
        "### Step 3: Update the parameters\n",
        "\n",
        "\\begin{equation}\n",
        "a = a - \\alpha \\frac{\\partial MSE}{\\partial a} \n",
        "\\end{equation}\n",
        "\n",
        "\\begin{equation}\n",
        "b = b - \\alpha \\frac{\\partial MSE}{\\partial b} \n",
        "\\end{equation}\n",
        "\n",
        "### Step 4: Loop for training \n",
        "\n",
        "Go back to **Step 1** and restart the process. Repeating the process over and over, for many epochs is training a model"
      ]
    },
    {
      "cell_type": "code",
      "metadata": {
        "id": "3irx08q1Ru-y",
        "colab_type": "code",
        "colab": {}
      },
      "source": [
        "import torch\n",
        "import torch.nn as nn\n",
        "import torchvision\n",
        "import torchvision.transforms as transforms\n",
        "\n",
        "\n",
        "\n",
        "# Hyper-parameters \n",
        "input_size = 784\n",
        "num_classes = 10\n",
        "num_epochs = 5\n",
        "batch_size = 100\n",
        "learning_rate = 0.001\n",
        "\n",
        "# MNIST dataset (images and labels)\n",
        "train_dataset = torchvision.datasets.MNIST(root='../../data', \n",
        "                                           train=True, \n",
        "                                           transform=transforms.ToTensor(),\n",
        "                                           download=True)\n",
        "\n",
        "test_dataset = torchvision.datasets.MNIST(root='../../data', \n",
        "                                          train=False, \n",
        "                                          transform=transforms.ToTensor())\n",
        "\n",
        "# Data loader (input pipeline)\n",
        "train_loader = torch.utils.data.DataLoader(dataset=train_dataset, \n",
        "                                           batch_size=batch_size, \n",
        "                                           shuffle=True)\n",
        "\n",
        "test_loader = torch.utils.data.DataLoader(dataset=test_dataset, \n",
        "                                          batch_size=batch_size, \n",
        "                                          shuffle=False)"
      ],
      "execution_count": 0,
      "outputs": []
    },
    {
      "cell_type": "code",
      "metadata": {
        "id": "CJzqrVh_qJ2T",
        "colab_type": "code",
        "colab": {
          "base_uri": "https://localhost:8080/",
          "height": 33
        },
        "outputId": "8199d8d1-6c7a-4d46-b11e-f4c5d18832df"
      },
      "source": [
        "torch.cuda.is_available()"
      ],
      "execution_count": 4,
      "outputs": [
        {
          "output_type": "execute_result",
          "data": {
            "text/plain": [
              "True"
            ]
          },
          "metadata": {
            "tags": []
          },
          "execution_count": 4
        }
      ]
    },
    {
      "cell_type": "code",
      "metadata": {
        "id": "Wss3u64_oYJQ",
        "colab_type": "code",
        "colab": {
          "base_uri": "https://localhost:8080/",
          "height": 516
        },
        "outputId": "6f28892f-e081-477d-e351-50e856c3816d"
      },
      "source": [
        "# Logistic regression model\n",
        "model = nn.Linear(input_size, num_classes)\n",
        "\n",
        "# Loss and optimizer\n",
        "# nn.CrossEntropyLoss() computes softmax internally\n",
        "criterion = nn.CrossEntropyLoss()  \n",
        "optimizer = torch.optim.SGD(model.parameters(), lr=learning_rate)  \n",
        "\n",
        "# Train the model\n",
        "total_step = len(train_loader)\n",
        "for epoch in range(num_epochs):\n",
        "    for i, (images, labels) in enumerate(train_loader):\n",
        "        # Reshape images to (batch_size, input_size)\n",
        "        images = images.reshape(-1, 28*28)\n",
        "        \n",
        "        # Forward pass\n",
        "        outputs = model(images)\n",
        "        loss = criterion(outputs, labels)\n",
        "        \n",
        "        # Backward and optimize\n",
        "        optimizer.zero_grad()\n",
        "        loss.backward()\n",
        "        optimizer.step()\n",
        "        \n",
        "        if (i+1) % 100 == 0:\n",
        "            print ('Epoch [{}/{}], Step [{}/{}], Loss: {:.4f}' \n",
        "                   .format(epoch+1, num_epochs, i+1, total_step, loss.item()))"
      ],
      "execution_count": 5,
      "outputs": [
        {
          "output_type": "stream",
          "text": [
            "Epoch [1/5], Step [100/600], Loss: 2.2002\n",
            "Epoch [1/5], Step [200/600], Loss: 2.1121\n",
            "Epoch [1/5], Step [300/600], Loss: 2.0450\n",
            "Epoch [1/5], Step [400/600], Loss: 1.9214\n",
            "Epoch [1/5], Step [500/600], Loss: 1.8055\n",
            "Epoch [1/5], Step [600/600], Loss: 1.8352\n",
            "Epoch [2/5], Step [100/600], Loss: 1.6922\n",
            "Epoch [2/5], Step [200/600], Loss: 1.6418\n",
            "Epoch [2/5], Step [300/600], Loss: 1.6429\n",
            "Epoch [2/5], Step [400/600], Loss: 1.5583\n",
            "Epoch [2/5], Step [500/600], Loss: 1.5216\n",
            "Epoch [2/5], Step [600/600], Loss: 1.5120\n",
            "Epoch [3/5], Step [100/600], Loss: 1.5502\n",
            "Epoch [3/5], Step [200/600], Loss: 1.3964\n",
            "Epoch [3/5], Step [300/600], Loss: 1.3476\n",
            "Epoch [3/5], Step [400/600], Loss: 1.3295\n",
            "Epoch [3/5], Step [500/600], Loss: 1.2904\n",
            "Epoch [3/5], Step [600/600], Loss: 1.3631\n",
            "Epoch [4/5], Step [100/600], Loss: 1.2645\n",
            "Epoch [4/5], Step [200/600], Loss: 1.1891\n",
            "Epoch [4/5], Step [300/600], Loss: 1.1267\n",
            "Epoch [4/5], Step [400/600], Loss: 1.2308\n",
            "Epoch [4/5], Step [500/600], Loss: 1.0688\n",
            "Epoch [4/5], Step [600/600], Loss: 1.1087\n",
            "Epoch [5/5], Step [100/600], Loss: 1.0532\n",
            "Epoch [5/5], Step [200/600], Loss: 1.0394\n",
            "Epoch [5/5], Step [300/600], Loss: 1.0141\n",
            "Epoch [5/5], Step [400/600], Loss: 1.0460\n",
            "Epoch [5/5], Step [500/600], Loss: 0.9909\n",
            "Epoch [5/5], Step [600/600], Loss: 0.9404\n"
          ],
          "name": "stdout"
        }
      ]
    },
    {
      "cell_type": "code",
      "metadata": {
        "id": "BGV_5K5hojHv",
        "colab_type": "code",
        "colab": {
          "base_uri": "https://localhost:8080/",
          "height": 33
        },
        "outputId": "6f5330e8-6668-4bc9-cc5f-31ec370dec65"
      },
      "source": [
        "# Test the model\n",
        "# In test phase, we don't need to compute gradients (for memory efficiency)\n",
        "with torch.no_grad():\n",
        "    correct = 0\n",
        "    total = 0\n",
        "    for images, labels in test_loader:\n",
        "        images = images.reshape(-1, 28*28)\n",
        "        outputs = model(images)\n",
        "        _, predicted = torch.max(outputs.data, 1)\n",
        "        total += labels.size(0)\n",
        "        correct += (predicted == labels).sum()\n",
        "\n",
        "    print('Accuracy of the model on the 10000 test images: {} %'.format(100 * correct / total))"
      ],
      "execution_count": 6,
      "outputs": [
        {
          "output_type": "stream",
          "text": [
            "Accuracy of the model on the 10000 test images: 82 %\n"
          ],
          "name": "stdout"
        }
      ]
    },
    {
      "cell_type": "code",
      "metadata": {
        "id": "ThxUfDJfokAC",
        "colab_type": "code",
        "colab": {}
      },
      "source": [
        "# Save the model checkpoint\n",
        "torch.save(model.state_dict(), 'model.ckpt')"
      ],
      "execution_count": 0,
      "outputs": []
    },
    {
      "cell_type": "code",
      "metadata": {
        "id": "olQy4zSvrPYY",
        "colab_type": "code",
        "colab": {
          "base_uri": "https://localhost:8080/",
          "height": 33
        },
        "outputId": "5f40a8b0-e858-4513-d78b-1515ff83e92c"
      },
      "source": [
        "!ls"
      ],
      "execution_count": 8,
      "outputs": [
        {
          "output_type": "stream",
          "text": [
            "model.ckpt  sample_data\n"
          ],
          "name": "stdout"
        }
      ]
    }
  ]
}